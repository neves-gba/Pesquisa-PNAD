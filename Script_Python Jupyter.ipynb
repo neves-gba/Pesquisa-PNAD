{
  "cells": [
    {
      "cell_type": "markdown",
      "source": [
        "Essa parte foi toda realizada utilizando o Google Colab, por isso alguns comandos de instalação podem estar ligeiramente diferentes de como seriam no VSCode"
      ],
      "metadata": {
        "id": "LkAiUEeBvGtG"
      }
    },
    {
      "cell_type": "markdown",
      "source": [
        "Importando a Biblioteca"
      ],
      "metadata": {
        "id": "qspWqhG2rG7D"
      }
    },
    {
      "cell_type": "code",
      "source": [
        "!pip install pyspark==3.3.1"
      ],
      "metadata": {
        "colab": {
          "base_uri": "https://localhost:8080/",
          "height": 0
        },
        "id": "5UmEhaLSrLxO",
        "outputId": "c84e01aa-0135-4fc0-9537-fbf8da76cc02"
      },
      "execution_count": 11,
      "outputs": [
        {
          "output_type": "stream",
          "name": "stdout",
          "text": [
            "Requirement already satisfied: pyspark==3.3.1 in /usr/local/lib/python3.10/dist-packages (3.3.1)\n",
            "Requirement already satisfied: py4j==0.10.9.5 in /usr/local/lib/python3.10/dist-packages (from pyspark==3.3.1) (0.10.9.5)\n"
          ]
        }
      ]
    },
    {
      "cell_type": "code",
      "execution_count": 2,
      "metadata": {
        "id": "mELVTMm_m8d0"
      },
      "outputs": [],
      "source": [
        "from pyspark.sql import SparkSession\n",
        "from google.colab import files"
      ]
    },
    {
      "cell_type": "markdown",
      "source": [
        "Upload da base extraída do SQL"
      ],
      "metadata": {
        "id": "rpiqvnfqsdKn"
      }
    },
    {
      "cell_type": "code",
      "source": [
        "uploaded = files.upload()"
      ],
      "metadata": {
        "colab": {
          "base_uri": "https://localhost:8080/",
          "height": 73
        },
        "id": "KsIK2plGstua",
        "outputId": "fd03a7ca-708b-402b-bf7f-551c6fab1f02"
      },
      "execution_count": 3,
      "outputs": [
        {
          "output_type": "display_data",
          "data": {
            "text/plain": [
              "<IPython.core.display.HTML object>"
            ],
            "text/html": [
              "\n",
              "     <input type=\"file\" id=\"files-3e6b7cde-553e-45d2-b07f-010ebd67694d\" name=\"files[]\" multiple disabled\n",
              "        style=\"border:none\" />\n",
              "     <output id=\"result-3e6b7cde-553e-45d2-b07f-010ebd67694d\">\n",
              "      Upload widget is only available when the cell has been executed in the\n",
              "      current browser session. Please rerun this cell to enable.\n",
              "      </output>\n",
              "      <script>// Copyright 2017 Google LLC\n",
              "//\n",
              "// Licensed under the Apache License, Version 2.0 (the \"License\");\n",
              "// you may not use this file except in compliance with the License.\n",
              "// You may obtain a copy of the License at\n",
              "//\n",
              "//      http://www.apache.org/licenses/LICENSE-2.0\n",
              "//\n",
              "// Unless required by applicable law or agreed to in writing, software\n",
              "// distributed under the License is distributed on an \"AS IS\" BASIS,\n",
              "// WITHOUT WARRANTIES OR CONDITIONS OF ANY KIND, either express or implied.\n",
              "// See the License for the specific language governing permissions and\n",
              "// limitations under the License.\n",
              "\n",
              "/**\n",
              " * @fileoverview Helpers for google.colab Python module.\n",
              " */\n",
              "(function(scope) {\n",
              "function span(text, styleAttributes = {}) {\n",
              "  const element = document.createElement('span');\n",
              "  element.textContent = text;\n",
              "  for (const key of Object.keys(styleAttributes)) {\n",
              "    element.style[key] = styleAttributes[key];\n",
              "  }\n",
              "  return element;\n",
              "}\n",
              "\n",
              "// Max number of bytes which will be uploaded at a time.\n",
              "const MAX_PAYLOAD_SIZE = 100 * 1024;\n",
              "\n",
              "function _uploadFiles(inputId, outputId) {\n",
              "  const steps = uploadFilesStep(inputId, outputId);\n",
              "  const outputElement = document.getElementById(outputId);\n",
              "  // Cache steps on the outputElement to make it available for the next call\n",
              "  // to uploadFilesContinue from Python.\n",
              "  outputElement.steps = steps;\n",
              "\n",
              "  return _uploadFilesContinue(outputId);\n",
              "}\n",
              "\n",
              "// This is roughly an async generator (not supported in the browser yet),\n",
              "// where there are multiple asynchronous steps and the Python side is going\n",
              "// to poll for completion of each step.\n",
              "// This uses a Promise to block the python side on completion of each step,\n",
              "// then passes the result of the previous step as the input to the next step.\n",
              "function _uploadFilesContinue(outputId) {\n",
              "  const outputElement = document.getElementById(outputId);\n",
              "  const steps = outputElement.steps;\n",
              "\n",
              "  const next = steps.next(outputElement.lastPromiseValue);\n",
              "  return Promise.resolve(next.value.promise).then((value) => {\n",
              "    // Cache the last promise value to make it available to the next\n",
              "    // step of the generator.\n",
              "    outputElement.lastPromiseValue = value;\n",
              "    return next.value.response;\n",
              "  });\n",
              "}\n",
              "\n",
              "/**\n",
              " * Generator function which is called between each async step of the upload\n",
              " * process.\n",
              " * @param {string} inputId Element ID of the input file picker element.\n",
              " * @param {string} outputId Element ID of the output display.\n",
              " * @return {!Iterable<!Object>} Iterable of next steps.\n",
              " */\n",
              "function* uploadFilesStep(inputId, outputId) {\n",
              "  const inputElement = document.getElementById(inputId);\n",
              "  inputElement.disabled = false;\n",
              "\n",
              "  const outputElement = document.getElementById(outputId);\n",
              "  outputElement.innerHTML = '';\n",
              "\n",
              "  const pickedPromise = new Promise((resolve) => {\n",
              "    inputElement.addEventListener('change', (e) => {\n",
              "      resolve(e.target.files);\n",
              "    });\n",
              "  });\n",
              "\n",
              "  const cancel = document.createElement('button');\n",
              "  inputElement.parentElement.appendChild(cancel);\n",
              "  cancel.textContent = 'Cancel upload';\n",
              "  const cancelPromise = new Promise((resolve) => {\n",
              "    cancel.onclick = () => {\n",
              "      resolve(null);\n",
              "    };\n",
              "  });\n",
              "\n",
              "  // Wait for the user to pick the files.\n",
              "  const files = yield {\n",
              "    promise: Promise.race([pickedPromise, cancelPromise]),\n",
              "    response: {\n",
              "      action: 'starting',\n",
              "    }\n",
              "  };\n",
              "\n",
              "  cancel.remove();\n",
              "\n",
              "  // Disable the input element since further picks are not allowed.\n",
              "  inputElement.disabled = true;\n",
              "\n",
              "  if (!files) {\n",
              "    return {\n",
              "      response: {\n",
              "        action: 'complete',\n",
              "      }\n",
              "    };\n",
              "  }\n",
              "\n",
              "  for (const file of files) {\n",
              "    const li = document.createElement('li');\n",
              "    li.append(span(file.name, {fontWeight: 'bold'}));\n",
              "    li.append(span(\n",
              "        `(${file.type || 'n/a'}) - ${file.size} bytes, ` +\n",
              "        `last modified: ${\n",
              "            file.lastModifiedDate ? file.lastModifiedDate.toLocaleDateString() :\n",
              "                                    'n/a'} - `));\n",
              "    const percent = span('0% done');\n",
              "    li.appendChild(percent);\n",
              "\n",
              "    outputElement.appendChild(li);\n",
              "\n",
              "    const fileDataPromise = new Promise((resolve) => {\n",
              "      const reader = new FileReader();\n",
              "      reader.onload = (e) => {\n",
              "        resolve(e.target.result);\n",
              "      };\n",
              "      reader.readAsArrayBuffer(file);\n",
              "    });\n",
              "    // Wait for the data to be ready.\n",
              "    let fileData = yield {\n",
              "      promise: fileDataPromise,\n",
              "      response: {\n",
              "        action: 'continue',\n",
              "      }\n",
              "    };\n",
              "\n",
              "    // Use a chunked sending to avoid message size limits. See b/62115660.\n",
              "    let position = 0;\n",
              "    do {\n",
              "      const length = Math.min(fileData.byteLength - position, MAX_PAYLOAD_SIZE);\n",
              "      const chunk = new Uint8Array(fileData, position, length);\n",
              "      position += length;\n",
              "\n",
              "      const base64 = btoa(String.fromCharCode.apply(null, chunk));\n",
              "      yield {\n",
              "        response: {\n",
              "          action: 'append',\n",
              "          file: file.name,\n",
              "          data: base64,\n",
              "        },\n",
              "      };\n",
              "\n",
              "      let percentDone = fileData.byteLength === 0 ?\n",
              "          100 :\n",
              "          Math.round((position / fileData.byteLength) * 100);\n",
              "      percent.textContent = `${percentDone}% done`;\n",
              "\n",
              "    } while (position < fileData.byteLength);\n",
              "  }\n",
              "\n",
              "  // All done.\n",
              "  yield {\n",
              "    response: {\n",
              "      action: 'complete',\n",
              "    }\n",
              "  };\n",
              "}\n",
              "\n",
              "scope.google = scope.google || {};\n",
              "scope.google.colab = scope.google.colab || {};\n",
              "scope.google.colab._files = {\n",
              "  _uploadFiles,\n",
              "  _uploadFilesContinue,\n",
              "};\n",
              "})(self);\n",
              "</script> "
            ]
          },
          "metadata": {}
        },
        {
          "output_type": "stream",
          "name": "stdout",
          "text": [
            "Saving COVID 3 trim 2020 SP Cap.csv to COVID 3 trim 2020 SP Cap.csv\n"
          ]
        }
      ]
    },
    {
      "cell_type": "code",
      "source": [
        "# Criar uma sessão Spark\n",
        "spark = SparkSession.builder \\\n",
        "    .appName(\"Base COVID\") \\\n",
        "    .getOrCreate()\n"
      ],
      "metadata": {
        "id": "0-zeibEotOHt"
      },
      "execution_count": 4,
      "outputs": []
    },
    {
      "cell_type": "code",
      "source": [
        "# Ler o CSV\n",
        "import io\n",
        "file_name = next(iter(uploaded))\n",
        "df = spark.read.csv(file_name, header=True, inferSchema=True)\n"
      ],
      "metadata": {
        "id": "v_is6XaZt52k"
      },
      "execution_count": 5,
      "outputs": []
    },
    {
      "cell_type": "markdown",
      "metadata": {
        "id": "q3HSyfPRm8d2"
      },
      "source": [
        "Renomeado as colunas para facilitar o entendimento"
      ]
    },
    {
      "cell_type": "code",
      "execution_count": 6,
      "metadata": {
        "id": "LliK06anm8d2"
      },
      "outputs": [],
      "source": [
        "df_renomeado = df \\\n",
        "    .withColumnRenamed(\"A003\", \"Sexo\") \\\n",
        "    .withColumnRenamed(\"B008\", \"Fez o teste de covid\") \\\n",
        "    .withColumnRenamed(\"Result_teste_covid\", \"Resultado do teste\") \\\n",
        "    .withColumnRenamed(\"B007\", \"Possui plano de saúde\") \\\n",
        "    .withColumnRenamed(\"B002\", \"Buscou atendimento médico\") \\\n",
        "    .withColumnRenamed(\"B011\", \"Isolamento social\") \\\n",
        "    .withColumnRenamed(\"B005\", \"Precisou ser internado ao visitar um hospital\") \\\n",
        "    .withColumnRenamed(\"B0011\", \"Febre\") \\\n",
        "    .withColumnRenamed(\"B0012\", \"Tosse\") \\\n",
        "    .withColumnRenamed(\"B0013\", \"Dor de garganta\") \\\n",
        "    .withColumnRenamed(\"B0014\", \"Dificuldade para respirar\") \\\n",
        "    .withColumnRenamed(\"B0015\", \"Dor de cabeça\") \\\n",
        "    .withColumnRenamed(\"B0016\", \"Dor no peito\") \\\n",
        "    .withColumnRenamed(\"B0017\", \"Nausea\") \\\n",
        "    .withColumnRenamed(\"B0018\", \"Nariz entupido ou escorrendo\") \\\n",
        "    .withColumnRenamed(\"B0019\", \"Fadiga\") \\\n",
        "    .withColumnRenamed(\"B00110\", \"Dor nos olhos\") \\\n",
        "    .withColumnRenamed(\"B00111\", \"Perda de cheiro ou sabor\") \\\n",
        "    .withColumnRenamed(\"B00112\", \"Dor muscular\") \\\n",
        "    .withColumnRenamed(\"B00113\", \"Diarreia\")"
      ]
    },
    {
      "cell_type": "markdown",
      "metadata": {
        "id": "wHvCn0XIm8d2"
      },
      "source": [
        "DataFrame com as colunas renomeadas"
      ]
    },
    {
      "cell_type": "code",
      "execution_count": 9,
      "metadata": {
        "colab": {
          "base_uri": "https://localhost:8080/",
          "height": 0
        },
        "collapsed": true,
        "id": "gqZyy5lBm8d3",
        "outputId": "5cbd7c48-c602-4628-b268-2087a6a22de8"
      },
      "outputs": [
        {
          "output_type": "stream",
          "name": "stdout",
          "text": [
            "+---+-------+----+--------------------+---------------------+-------------------------+-----------------+---------------------------------------------+-----+-----+---------------+-------------------------+-------------+------------+------+----------------------------+------+-------------+------------------------+------------+--------+---+------------------+\n",
            "| UF|CAPITAL|Sexo|Fez o teste de covid|Possui plano de saúde|Buscou atendimento médico|Isolamento social|Precisou ser internado ao visitar um hospital|Febre|Tosse|Dor de garganta|Dificuldade para respirar|Dor de cabeça|Dor no peito|Nausea|Nariz entupido ou escorrendo|Fadiga|Dor nos olhos|Perda de cheiro ou sabor|Dor muscular|Diarreia|Mes|Resultado do teste|\n",
            "+---+-------+----+--------------------+---------------------+-------------------------+-----------------+---------------------------------------------+-----+-----+---------------+-------------------------+-------------+------------+------+----------------------------+------+-------------+------------------------+------------+--------+---+------------------+\n",
            "| 35|     35|   2|                   2|                    1|                     null|                3|                                         null|    2|    2|              2|                        2|            2|           2|     2|                           2|     2|            2|                       2|           2|       2|  7|              null|\n",
            "| 35|     35|   2|                   2|                    1|                     null|                3|                                         null|    2|    2|              2|                        2|            2|           2|     2|                           2|     2|            2|                       2|           2|       2|  7|              null|\n",
            "| 35|     35|   1|                   2|                    2|                     null|                2|                                         null|    2|    2|              2|                        2|            2|           2|     2|                           2|     2|            2|                       2|           2|       2|  7|              null|\n",
            "| 35|     35|   2|                   1|                    2|                     null|                2|                                         null|    2|    2|              2|                        2|            2|           2|     2|                           2|     2|            2|                       2|           2|       2|  7|                 2|\n",
            "| 35|     35|   2|                   2|                    2|                     null|                4|                                         null|    2|    2|              2|                        2|            2|           2|     2|                           2|     2|            2|                       2|           2|       2|  7|              null|\n",
            "| 35|     35|   1|                   2|                    2|                        2|                3|                                         null|    2|    2|              1|                        1|            1|           1|     1|                           2|     1|            2|                       2|           2|       1|  7|              null|\n",
            "| 35|     35|   2|                   2|                    2|                        2|                4|                                         null|    2|    2|              2|                        2|            2|           2|     2|                           1|     2|            2|                       2|           2|       2|  7|              null|\n",
            "| 35|     35|   1|                   2|                    2|                     null|                2|                                         null|    2|    2|              2|                        2|            2|           2|     2|                           2|     2|            2|                       2|           2|       2|  7|              null|\n",
            "| 35|     35|   2|                   2|                    2|                     null|                2|                                         null|    2|    2|              2|                        2|            2|           2|     2|                           2|     2|            2|                       2|           2|       2|  7|              null|\n",
            "| 35|     35|   1|                   2|                    2|                     null|                3|                                         null|    2|    2|              2|                        2|            2|           2|     2|                           2|     2|            2|                       2|           2|       2|  7|              null|\n",
            "| 35|     35|   2|                   2|                    2|                     null|                2|                                         null|    2|    2|              2|                        2|            2|           2|     2|                           2|     2|            2|                       2|           2|       2|  7|              null|\n",
            "| 35|     35|   2|                   2|                    2|                     null|                3|                                         null|    2|    2|              2|                        2|            2|           2|     2|                           2|     2|            2|                       2|           2|       2|  7|              null|\n",
            "| 35|     35|   2|                   2|                    2|                        2|                2|                                         null|    2|    2|              2|                        2|            1|           2|     2|                           1|     2|            1|                       2|           1|       1|  7|              null|\n",
            "| 35|     35|   1|                   2|                    2|                     null|                2|                                         null|    2|    2|              2|                        2|            2|           2|     2|                           2|     2|            2|                       2|           2|       2|  7|              null|\n",
            "| 35|     35|   2|                   2|                    2|                     null|                4|                                         null|    2|    2|              2|                        2|            2|           2|     2|                           2|     2|            2|                       2|           2|       2|  7|              null|\n",
            "| 35|     35|   2|                   2|                    2|                     null|                4|                                         null|    2|    2|              2|                        2|            2|           2|     2|                           2|     2|            2|                       2|           2|       2|  7|              null|\n",
            "| 35|     35|   2|                   2|                    2|                     null|                2|                                         null|    2|    2|              2|                        2|            2|           2|     2|                           2|     2|            2|                       2|           2|       2|  7|              null|\n",
            "| 35|     35|   2|                   2|                    2|                     null|                4|                                         null|    2|    2|              2|                        2|            2|           2|     2|                           2|     2|            2|                       2|           2|       2|  7|              null|\n",
            "| 35|     35|   2|                   2|                    2|                     null|                4|                                         null|    2|    2|              2|                        2|            2|           2|     2|                           2|     2|            2|                       2|           2|       2|  7|              null|\n",
            "| 35|     35|   2|                   2|                    2|                     null|                3|                                         null|    2|    2|              2|                        2|            2|           2|     2|                           2|     2|            2|                       2|           2|       2|  7|              null|\n",
            "+---+-------+----+--------------------+---------------------+-------------------------+-----------------+---------------------------------------------+-----+-----+---------------+-------------------------+-------------+------------+------+----------------------------+------+-------------+------------------------+------------+--------+---+------------------+\n",
            "only showing top 20 rows\n",
            "\n"
          ]
        }
      ],
      "source": [
        "df_renomeado.show()"
      ]
    },
    {
      "cell_type": "markdown",
      "source": [
        "Agora que as colunas foram renomeadas, começaremos a responder as questões."
      ],
      "metadata": {
        "id": "TwLD3976Hup2"
      }
    },
    {
      "cell_type": "markdown",
      "source": [
        "# - Houve um aumento entre Julho e Setembro de testes positivos para covid na capital?"
      ],
      "metadata": {
        "id": "BQMObp31IEfP"
      }
    },
    {
      "cell_type": "code",
      "execution_count": 10,
      "metadata": {
        "id": "l8E9O8oFm8d3"
      },
      "outputs": [],
      "source": [
        "from pyspark.sql import functions as F\n",
        "\n",
        "# Filtrar apenas os resultados positivos (1 Positivo, 2 negativo)\n",
        "df_positivos = df_renomeado.filter(df_renomeado['Resultado do teste'] == 1)\n"
      ]
    },
    {
      "cell_type": "code",
      "source": [
        "# Contar o número de testes positivos por mês\n",
        "resultados_por_mes = df_positivos.groupBy(\"Mes\").agg(F.count(\"*\").alias(\"Total_Positivos\"))\n",
        "resultados_por_mes.show()\n"
      ],
      "metadata": {
        "colab": {
          "base_uri": "https://localhost:8080/",
          "height": 0
        },
        "id": "BqdDqqOpKeLd",
        "outputId": "827cf03a-0d7c-4efb-c4a2-f77c781e5df9"
      },
      "execution_count": 11,
      "outputs": [
        {
          "output_type": "stream",
          "name": "stdout",
          "text": [
            "+---+---------------+\n",
            "|Mes|Total_Positivos|\n",
            "+---+---------------+\n",
            "|  9|            200|\n",
            "|  8|            182|\n",
            "|  7|            272|\n",
            "+---+---------------+\n",
            "\n"
          ]
        }
      ]
    },
    {
      "cell_type": "code",
      "source": [
        "# Coletando os resultados em lista\n",
        "resultados_lista = resultados_por_mes.collect()\n",
        "\n",
        "# Criando uma lista para armazenar as porcentagens\n",
        "percentuais = []\n",
        "\n",
        "# Adicionando o percentual de Julho (0% porque é o primeiro mês)\n",
        "if len(resultados_lista) > 0:\n",
        "    percentuais.append((\"Julho\", \"Julho\", 0.0))  # Usar float\n",
        "\n",
        "# Mapeamento de meses\n",
        "mes_mapping = {\n",
        "    7: \"Julho\",\n",
        "    8: \"Agosto\",\n",
        "    9: \"Setembro\"\n",
        "}\n",
        "\n",
        "# Calculando os percentuais para Agosto e Setembro\n",
        "for i in range(1, len(resultados_lista)):\n",
        "    mes_anterior = mes_mapping.get(resultados_lista[i-1][0], \"Desconhecido\")  # Mapear mês anterior\n",
        "    positivos_anterior = resultados_lista[i-1][1]\n",
        "    positivos_atual = resultados_lista[i][1]\n",
        "    mes_atual = mes_mapping.get(resultados_lista[i][0], \"Desconhecido\")  # Mapear mês atual\n",
        "\n",
        "    if positivos_anterior > 0:\n",
        "        percentual = float((positivos_atual - positivos_anterior) / positivos_anterior * 100)  # Garantir que é float\n",
        "    else:\n",
        "        percentual = None  # Para não dividir por zero\n",
        "\n",
        "    percentuais.append((mes_anterior, mes_atual, percentual))\n",
        "\n",
        "# Criar um DataFrame para as porcentagens\n",
        "df_percentuais = spark.createDataFrame(percentuais, [\"Mes_Anterior\", \"Mes_Atual\", \"Percentual\"])\n",
        "df_percentuais.show()\n"
      ],
      "metadata": {
        "colab": {
          "base_uri": "https://localhost:8080/",
          "height": 0
        },
        "id": "9UhpdIFNKyhf",
        "outputId": "0b291a78-4d7b-4f33-c7a2-29a7a485003a"
      },
      "execution_count": 18,
      "outputs": [
        {
          "output_type": "stream",
          "name": "stdout",
          "text": [
            "+------------+---------+-----------------+\n",
            "|Mes_Anterior|Mes_Atual|       Percentual|\n",
            "+------------+---------+-----------------+\n",
            "|       Julho|    Julho|              0.0|\n",
            "|    Setembro|   Agosto|             -9.0|\n",
            "|      Agosto|    Julho|49.45054945054945|\n",
            "+------------+---------+-----------------+\n",
            "\n"
          ]
        }
      ]
    },
    {
      "cell_type": "markdown",
      "source": [
        "Respondendo nossa primeira pergunda, sim. Houve um aumento de casos entre Julho e Setembro. O numero de positivos em Agosto é menor do que os de Julho, isso pode ter ocorrido em decorrencia de medidas de distanciamento, higienização e uso de máscara. O aumento de casos em Setembro pode ser um reflexo da necessidade da população de voltar a se descolar, o aumento de pessoas visitando hospitais e se contaminando ou um reflexo do delay entre a realização do teste e o recebimento do resultado."
      ],
      "metadata": {
        "id": "Fk-VmiXBDt0U"
      }
    },
    {
      "cell_type": "markdown",
      "source": [
        "# - Houve diferença significativa entre o número de homens e mulheres que testaram positivo?"
      ],
      "metadata": {
        "id": "Fz0cTukBFhF2"
      }
    },
    {
      "cell_type": "code",
      "source": [
        "from pyspark.sql import functions as F\n",
        "\n",
        "# Filtrar os dados para contar os positivos por sexo\n",
        "df_sexo_positivos = df_renomeado.filter(df_renomeado['Resultado do teste'] == 1) \\\n",
        "    .groupBy(\"Sexo\") \\\n",
        "    .agg(F.count(\"*\").alias(\"Total_Positivos\"))\n",
        "\n",
        "df_sexo_positivos.show()"
      ],
      "metadata": {
        "colab": {
          "base_uri": "https://localhost:8080/",
          "height": 0
        },
        "id": "lPUTuib0FtYY",
        "outputId": "3803dbf3-179b-4a90-971b-0a0b7cb50fd7"
      },
      "execution_count": 9,
      "outputs": [
        {
          "output_type": "stream",
          "name": "stdout",
          "text": [
            "+----+---------------+\n",
            "|Sexo|Total_Positivos|\n",
            "+----+---------------+\n",
            "|   1|            283|\n",
            "|   2|            371|\n",
            "+----+---------------+\n",
            "\n"
          ]
        }
      ]
    },
    {
      "cell_type": "code",
      "source": [
        "# Coletar os resultados\n",
        "resultados_sexo = df_sexo_positivos.collect()\n",
        "\n",
        "# Criar um dicionário para armazenar os dados\n",
        "totais_sexo = {1: 0, 2: 0}  # 1 = Homem, 2 = Mulher\n",
        "\n",
        "for row in resultados_sexo:\n",
        "    totais_sexo[row[0]] = row[1]\n",
        "\n",
        "# Total geral de positivos\n",
        "total_positivos = sum(totais_sexo.values())\n",
        "\n",
        "# Calcular porcentagens\n",
        "porcentagens_sexo = {sexo: (total / total_positivos) * 100 for sexo, total in totais_sexo.items()}\n",
        "\n",
        "print(\"Totais de Positivos:\", totais_sexo)\n",
        "print(\"Porcentagens de Positivos:\", porcentagens_sexo)"
      ],
      "metadata": {
        "colab": {
          "base_uri": "https://localhost:8080/",
          "height": 0
        },
        "id": "qNOYATsALF4w",
        "outputId": "b8252479-843f-422b-e078-f8bc8841bde1"
      },
      "execution_count": 10,
      "outputs": [
        {
          "output_type": "stream",
          "name": "stdout",
          "text": [
            "Totais de Positivos: {1: 283, 2: 371}\n",
            "Porcentagens de Positivos: {1: 43.27217125382263, 2: 56.727828746177366}\n"
          ]
        }
      ]
    },
    {
      "cell_type": "markdown",
      "source": [
        "Então sim, houve uma diferença na quantidade de testes positivos entre homens e mulheres. Foram aproximadamente 31% a mais de mulheres infectadas em comparação com homens durante esse período. Isso pode ser explicado por questões históricas e sociais já ainda hoje as mulheres exercem um papel central na gestão da família, exposição para compras da manutenção do lar e cuidado de crianças, o que pode as ter expostas a situações de risco. Outro fator importante a ser considerado é que historicamente os homens tendem a ser mais negligentes com a própria saúde, o que pode levá-los a ignorar sintomas e sequer realizar os testes.\n"
      ],
      "metadata": {
        "id": "uOuJ1KZKSRqo"
      }
    },
    {
      "cell_type": "markdown",
      "source": [
        "# - Porcentagem que buscou atendimento médico após apresentar algum sintoma"
      ],
      "metadata": {
        "id": "Lr5kHyGqSdKS"
      }
    },
    {
      "cell_type": "markdown",
      "source": [
        "Agora vamos fazer o seguinte levantamento. Das pessoas que apresentaram sintomas, quantas de fato buscaram algum tipo de atendimento médico?"
      ],
      "metadata": {
        "id": "yG0eqh3RbuHq"
      }
    },
    {
      "cell_type": "code",
      "source": [
        "from pyspark.sql import functions as F\n",
        "\n",
        "# Criei uma condição para verificar se pelo menos um dos sintomas foi relatado como \"sim\"\n",
        "condicao_sintomas = (\n",
        "    (df_renomeado['Febre'] == 1) |\n",
        "    (df_renomeado['Tosse'] == 1) |\n",
        "    (df_renomeado['Dor de garganta'] == 1) |\n",
        "    (df_renomeado['Dificuldade para respirar'] == 1) |\n",
        "    (df_renomeado['Dor de cabeça'] == 1) |\n",
        "    (df_renomeado['Dor no peito'] == 1) |\n",
        "    (df_renomeado['Nausea'] == 1) |\n",
        "    (df_renomeado['Nariz entupido ou escorrendo'] == 1) |\n",
        "    (df_renomeado['Fadiga'] == 1) |\n",
        "    (df_renomeado['Dor nos olhos'] == 1) |\n",
        "    (df_renomeado['Perda de cheiro ou sabor'] == 1) |\n",
        "    (df_renomeado['Dor muscular'] == 1) |\n",
        "    (df_renomeado['Diarreia'] == 1)\n",
        ")\n",
        "\n",
        "# Filtrar o DataFrame\n",
        "df_filtrado = df_renomeado.filter(condicao_sintomas)\n"
      ],
      "metadata": {
        "id": "QxeiqdAEbGeH"
      },
      "execution_count": 12,
      "outputs": []
    },
    {
      "cell_type": "code",
      "source": [
        "# O próximo passo é contar quantas pessoas buscaram atendimento médico\n",
        "df_atendimento = df_filtrado.groupBy(\"Buscou atendimento médico\").agg(F.count(\"*\").alias(\"Total\"))\n",
        "\n",
        "df_atendimento.show()"
      ],
      "metadata": {
        "colab": {
          "base_uri": "https://localhost:8080/",
          "height": 0
        },
        "id": "soz2oUTCdWPy",
        "outputId": "69e4daad-4ccd-47f0-c7d5-7a6c0b7af65e"
      },
      "execution_count": 13,
      "outputs": [
        {
          "output_type": "stream",
          "name": "stdout",
          "text": [
            "+-------------------------+-----+\n",
            "|Buscou atendimento médico|Total|\n",
            "+-------------------------+-----+\n",
            "|                        1|  417|\n",
            "|                        2| 1901|\n",
            "+-------------------------+-----+\n",
            "\n"
          ]
        }
      ]
    },
    {
      "cell_type": "code",
      "source": [
        "# Coletando os resultados\n",
        "resultados_atendimento = df_atendimento.collect()\n",
        "\n",
        "# Total de pessoas que relataram sintomas\n",
        "total_sintomas = sum(row[1] for row in resultados_atendimento)\n",
        "\n",
        "# Calcular porcentagens\n",
        "porcentagens_atendimento = {1: 0, 2: 0}  # 1 = Sim, 2 = Não\n",
        "\n",
        "for row in resultados_atendimento:\n",
        "    porcentagens_atendimento[row[0]] = (row[1] / total_sintomas) * 100\n",
        "\n",
        "print(\"Porcentagem que buscou atendimento médico: {:.2f}%\".format(porcentagens_atendimento[1]))\n",
        "print(\"Porcentagem que não buscou atendimento médico: {:.2f}%\".format(porcentagens_atendimento[2]))"
      ],
      "metadata": {
        "colab": {
          "base_uri": "https://localhost:8080/",
          "height": 0
        },
        "id": "3LGL--YneGMh",
        "outputId": "4794ff2d-b262-4dd0-b256-de6d35ba3278"
      },
      "execution_count": 15,
      "outputs": [
        {
          "output_type": "stream",
          "name": "stdout",
          "text": [
            "Porcentagem que buscou atendimento médico: 17.99%\n",
            "Porcentagem que não buscou atendimento médico: 82.01%\n"
          ]
        }
      ]
    },
    {
      "cell_type": "markdown",
      "source": [
        "# - Ao visitar um hospital, precisou ser internado?"
      ],
      "metadata": {
        "id": "Q8qZOYb3QHWh"
      }
    },
    {
      "cell_type": "code",
      "source": [
        "# Filtrar os dados para considerar apenas as pessoas que visitaram hospitais\n",
        "df_hospital = df_renomeado.filter(df_renomeado['Precisou ser internado ao visitar um hospital'] != 2)\n",
        "\n",
        "# Contar as respostas para a coluna \"Precisou ser internado\"\n",
        "df_internacao = df_hospital.groupBy(\"Precisou ser internado ao visitar um hospital\").agg(F.count(\"*\").alias(\"Total\"))\n",
        "\n",
        "df_internacao.show()\n"
      ],
      "metadata": {
        "colab": {
          "base_uri": "https://localhost:8080/",
          "height": 0
        },
        "id": "z5olq5vnQOms",
        "outputId": "fcaf230b-fe9a-4e4a-b310-3920d8a23048"
      },
      "execution_count": 18,
      "outputs": [
        {
          "output_type": "stream",
          "name": "stdout",
          "text": [
            "+---------------------------------------------+-----+\n",
            "|Precisou ser internado ao visitar um hospital|Total|\n",
            "+---------------------------------------------+-----+\n",
            "|                                            1|   13|\n",
            "|                                            3|    5|\n",
            "+---------------------------------------------+-----+\n",
            "\n"
          ]
        }
      ]
    },
    {
      "cell_type": "code",
      "source": [
        "# Coletar os resultados\n",
        "resultados_internacao = df_internacao.collect()\n",
        "\n",
        "# Total de pessoas que visitaram hospitais\n",
        "total_hospital = sum(row[1] for row in resultados_internacao)\n",
        "\n",
        "# Calcular porcentagens\n",
        "porcentagens_internacao = {1: 0, 2: 0, 3: 0}  # 1 = Sim, 2 = Não, 3 = Não foi atendido\n",
        "\n",
        "for row in resultados_internacao:\n",
        "    porcentagens_internacao[row[0]] = (row[1] / total_hospital) * 100\n",
        "\n",
        "print(f\"Porcentagem que precisou ser internado: {porcentagens_internacao[1]:.2f}%\")\n",
        "print(f\"Porcentagem que não precisou ser internado: {porcentagens_internacao[2]:.2f}%\")\n",
        "print(f\"Porcentagem que não foi atendido: {porcentagens_internacao[3]:.2f}%\")\n"
      ],
      "metadata": {
        "colab": {
          "base_uri": "https://localhost:8080/",
          "height": 0
        },
        "id": "MXmL33LzRcSt",
        "outputId": "3fe415ee-aa01-49dd-ed1a-8d93a8752cb5"
      },
      "execution_count": 19,
      "outputs": [
        {
          "output_type": "stream",
          "name": "stdout",
          "text": [
            "Porcentagem que precisou ser internado: 72.22%\n",
            "Porcentagem que não precisou ser internado: 0.00%\n",
            "Porcentagem que não foi atendido: 27.78%\n"
          ]
        }
      ]
    },
    {
      "cell_type": "markdown",
      "source": [
        "Das pessoas que foram ao hospital e conseguiram ser atendidas, 72.22% precisou ser internada por pelo menos um dia, enquanto os outros 27.78% não conseguiram atendimento. Isso reforça o ponto de que as pessoas evitaram buscar atendimento a menos que os sintomas estivessem com maior gravidade, e que os próprios estabelecimento de saúde também estavam priorizando apenas os casos urgentes."
      ],
      "metadata": {
        "id": "uMzzndfKVKcP"
      }
    },
    {
      "cell_type": "markdown",
      "source": [
        "# - Porcentagem que possuía algum plano de saúde"
      ],
      "metadata": {
        "id": "pBdGqV00U4JE"
      }
    },
    {
      "cell_type": "code",
      "source": [
        "# Contar as respostas para a coluna \"Possui plano de saúde\"\n",
        "df_plano_saude = df_renomeado.groupBy(\"Possui plano de saúde\").agg(F.count(\"*\").alias(\"Total\"))\n",
        "\n",
        "df_plano_saude.show()\n"
      ],
      "metadata": {
        "colab": {
          "base_uri": "https://localhost:8080/",
          "height": 0
        },
        "id": "E404CoLQV6P2",
        "outputId": "a5ce7bf6-032e-481b-ccf4-c65847c13757"
      },
      "execution_count": 21,
      "outputs": [
        {
          "output_type": "stream",
          "name": "stdout",
          "text": [
            "+---------------------+-----+\n",
            "|Possui plano de saúde|Total|\n",
            "+---------------------+-----+\n",
            "|                    1|14360|\n",
            "|                    9|  466|\n",
            "|                    2|16383|\n",
            "+---------------------+-----+\n",
            "\n"
          ]
        }
      ]
    },
    {
      "cell_type": "code",
      "source": [
        "# Coletar os resultados\n",
        "resultados_plano_saude = df_plano_saude.collect()\n",
        "\n",
        "# Total de pessoas\n",
        "total_pessoas = sum(row[1] for row in resultados_plano_saude)\n",
        "\n",
        "# Calcular porcentagens\n",
        "porcentagens_plano_saude = {1: 0, 2: 0}  # 1 = Sim, 2 = Não\n",
        "\n",
        "for row in resultados_plano_saude:\n",
        "    porcentagens_plano_saude[row[0]] = (row[1] / total_pessoas) * 100\n",
        "\n",
        "print(f\"Porcentagem que possui plano de saúde: {porcentagens_plano_saude[1]:.2f}%\")\n",
        "print(f\"Porcentagem que não possui plano de saúde: {porcentagens_plano_saude[2]:.2f}%\")\n"
      ],
      "metadata": {
        "colab": {
          "base_uri": "https://localhost:8080/",
          "height": 0
        },
        "id": "2UXDwYWnU3h1",
        "outputId": "12182ce8-cb6d-4a57-9f08-069fb904d311"
      },
      "execution_count": 22,
      "outputs": [
        {
          "output_type": "stream",
          "name": "stdout",
          "text": [
            "Porcentagem que possui plano de saúde: 46.01%\n",
            "Porcentagem que não possui plano de saúde: 52.49%\n"
          ]
        }
      ]
    },
    {
      "cell_type": "markdown",
      "source": [
        "# - Como foi o isolamento social duante o período analisado."
      ],
      "metadata": {
        "id": "laoVjtkKX7ZM"
      }
    },
    {
      "cell_type": "code",
      "source": [
        "# Novamente vou contar as respostas para a coluna \"Isolamento Social\"\n",
        "df_isolamento = df_renomeado.groupBy(\"Isolamento social\").agg(F.count(\"*\").alias(\"Total\"))\n",
        "\n",
        "df_isolamento.show()\n"
      ],
      "metadata": {
        "colab": {
          "base_uri": "https://localhost:8080/",
          "height": 0
        },
        "id": "ho9r0RC_X5mI",
        "outputId": "7ea49bd3-72dd-4933-cc87-c0f3bef93f58"
      },
      "execution_count": 23,
      "outputs": [
        {
          "output_type": "stream",
          "name": "stdout",
          "text": [
            "+-----------------+-----+\n",
            "|Isolamento social|Total|\n",
            "+-----------------+-----+\n",
            "|                1|  797|\n",
            "|                3|14187|\n",
            "|                9|  598|\n",
            "|                4| 6639|\n",
            "|                2| 8988|\n",
            "+-----------------+-----+\n",
            "\n"
          ]
        }
      ]
    },
    {
      "cell_type": "code",
      "source": [
        "# Coleta de resultados\n",
        "resultados_isolamento = df_isolamento.collect()\n",
        "\n",
        "# Total de pessoas\n",
        "total_pessoas_isolamento = sum(row[1] for row in resultados_isolamento)\n",
        "\n",
        "# Porcentagens\n",
        "porcentagens_isolamento = {1: 0, 2: 0, 3: 0, 4: 0}  # 1, 2, 3, 4 conforme os valores\n",
        "\n",
        "for row in resultados_isolamento:\n",
        "    porcentagens_isolamento[row[0]] = (row[1] / total_pessoas_isolamento) * 100\n",
        "\n",
        "print(f\"Porcentagem que não fez restrição social: {porcentagens_isolamento[1]:.2f}%\")\n",
        "print(f\"Porcentagem que reduziu o contato: {porcentagens_isolamento[2]:.2f}%\")\n",
        "print(f\"Porcentagem que só saiu em caso de necessidade: {porcentagens_isolamento[3]:.2f}%\")\n",
        "print(f\"Porcentagem que ficou rigorosamente em casa: {porcentagens_isolamento[4]:.2f}%\")\n"
      ],
      "metadata": {
        "colab": {
          "base_uri": "https://localhost:8080/",
          "height": 0
        },
        "id": "dWMI6z3yYLqA",
        "outputId": "d3e40916-2215-46d6-be93-75f2b610539f"
      },
      "execution_count": 24,
      "outputs": [
        {
          "output_type": "stream",
          "name": "stdout",
          "text": [
            "Porcentagem que não fez restrição social: 2.55%\n",
            "Porcentagem que reduziu o contato: 28.80%\n",
            "Porcentagem que só saiu em caso de necessidade: 45.46%\n",
            "Porcentagem que ficou rigorosamente em casa: 21.27%\n"
          ]
        }
      ]
    },
    {
      "cell_type": "markdown",
      "source": [
        "* 2.55% dessa amostra não fez nenhuma restrição social durante esse período,\n",
        "continuando sua rotina normalmente como antes da pandemia\n",
        "* 28.80% reduziu o contato com outras pessoas em algum nível, mas continuou saindo de casa para atividades não essenciais, trabalho e/ou recebendo visitas em casa\n",
        "* 45.46% só saiu em caso de necessidade básica\n",
        "* 21.27% se manteve completamente isolado em casa"
      ],
      "metadata": {
        "id": "tZXEesJkq0kW"
      }
    },
    {
      "cell_type": "markdown",
      "source": [
        "Pelos resultados podemos concluir que nesse primeiro momento o comportamento geral foi de aderir (com algumas adaptações) as indicações de isolamento social, mas sem abrir mão de algumas atividades normais.\n",
        "\n",
        "Mas isso somado ao fato de que uma minoria ainda manteve sua rotina sem nenhuma alteração evidencia a importância de mais campanhas de conscientização sobre a importância do isolamento e os riscos do seu descumprimento."
      ],
      "metadata": {
        "id": "kzxHoFfJrGvJ"
      }
    }
  ],
  "metadata": {
    "kernelspec": {
      "display_name": "base",
      "language": "python",
      "name": "python3"
    },
    "language_info": {
      "codemirror_mode": {
        "name": "ipython",
        "version": 3
      },
      "file_extension": ".py",
      "mimetype": "text/x-python",
      "name": "python",
      "nbconvert_exporter": "python",
      "pygments_lexer": "ipython3",
      "version": "3.12.4"
    },
    "colab": {
      "provenance": []
    }
  },
  "nbformat": 4,
  "nbformat_minor": 0
}